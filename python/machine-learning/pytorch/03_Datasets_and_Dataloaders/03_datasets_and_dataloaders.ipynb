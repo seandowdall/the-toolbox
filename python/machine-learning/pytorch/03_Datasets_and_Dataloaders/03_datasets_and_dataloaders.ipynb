{
 "cells": [
  {
   "cell_type": "markdown",
   "id": "ffa120a1",
   "metadata": {},
   "source": [
    "# DATASETS & DATALOADERS\n",
    "\n",
    "Code for processing data samples gets messy and hard to maintain -> we want our dataset code to be decoupled form our model training code for better readability and modularity. Two data primitives: ==torch.utils.data.DataLoader== and ==torch.utils.data.Dataset== that allow us to use pre-loaded datasets as well as your own data. Dataset stores the samples and their corresponding labels, and DataLoader wraps an iterable around the Dataset to enable easy access to the samples.\n",
    "\n",
    "PyTorch domain libraries provide a number of pre-loaded datasets (such as FashionMNIST) that subclass torch.utils.data.Dataset and implement functions specific to the particular data. They can be used to prototype and benchmark your model. "
   ]
  }
 ],
 "metadata": {
  "kernelspec": {
   "display_name": "Python 3 (ipykernel)",
   "language": "python",
   "name": "python3"
  },
  "language_info": {
   "codemirror_mode": {
    "name": "ipython",
    "version": 3
   },
   "file_extension": ".py",
   "mimetype": "text/x-python",
   "name": "python",
   "nbconvert_exporter": "python",
   "pygments_lexer": "ipython3",
   "version": "3.10.9"
  }
 },
 "nbformat": 4,
 "nbformat_minor": 5
}
