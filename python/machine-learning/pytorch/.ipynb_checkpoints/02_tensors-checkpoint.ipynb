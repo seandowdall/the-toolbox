{
 "cells": [
  {
   "cell_type": "markdown",
   "id": "197cab48",
   "metadata": {},
   "source": [
    "# Tensors\n",
    "\n",
    "Similar to arrays and matrices. We use these tensors to encode the inputs and outputs of a model as well as the parameters (w & b).\n",
    "\n",
    "Very similar to NumPys ndarrays. The difference being that tensors can be run on GPUs and are generally much more efficient."
   ]
  },
  {
   "cell_type": "code",
   "execution_count": 2,
   "id": "fe96805c",
   "metadata": {},
   "outputs": [],
   "source": [
    "import torch\n",
    "import numpy as np"
   ]
  },
  {
   "cell_type": "markdown",
   "id": "f521fb02",
   "metadata": {},
   "source": [
    "## Initialising a Tensor\n",
    "\n",
    "Tensors can be initialised in numerous ways:\n",
    "\n",
    "#### Directly from Data:\n",
    "Tensors can be created directly from data. The data type is auto inferred."
   ]
  },
  {
   "cell_type": "code",
   "execution_count": 7,
   "id": "337b2734",
   "metadata": {},
   "outputs": [],
   "source": [
    "data = [[1,2], [3,4]]\n",
    "x_data = torch.tensor(data)"
   ]
  },
  {
   "cell_type": "markdown",
   "id": "f85ccae3",
   "metadata": {},
   "source": [
    "#### From a NumPy array"
   ]
  },
  {
   "cell_type": "code",
   "execution_count": 9,
   "id": "747d62e5",
   "metadata": {},
   "outputs": [],
   "source": [
    "np_array = np.array(data)\n",
    "x_np = torch.from_numpy(np_array)"
   ]
  },
  {
   "cell_type": "markdown",
   "id": "9f77f90e",
   "metadata": {},
   "source": [
    "#### From another tensor:\n",
    "The new tensor retains properties(shape, dtype) of the argument tensor, unless explicitly overriden."
   ]
  },
  {
   "cell_type": "code",
   "execution_count": 12,
   "id": "1a506409",
   "metadata": {},
   "outputs": [
    {
     "name": "stdout",
     "output_type": "stream",
     "text": [
      "Ones Tensor: \n",
      " tensor([[1, 1],\n",
      "        [1, 1]]) \n",
      "\n",
      "Random Tensor: \n",
      " tensor([[0.7852, 0.9725],\n",
      "        [0.4002, 0.0010]]) \n",
      "\n"
     ]
    }
   ],
   "source": [
    "x_ones = torch.ones_like(x_data)\n",
    "print(f'Ones Tensor: \\n {x_ones} \\n')\n",
    "\n",
    "x_rand = torch.rand_like(x_data, dtype=torch.float)\n",
    "print(f'Random Tensor: \\n {x_rand} \\n')\n"
   ]
  },
  {
   "cell_type": "markdown",
   "id": "ff78f70c",
   "metadata": {},
   "source": [
    "#### With random or constant values:\n",
    "'shape' is a tuple of tensor dimensions, in the functions below it determines the dimensionality of the output tensor"
   ]
  },
  {
   "cell_type": "code",
   "execution_count": 14,
   "id": "60b998f7",
   "metadata": {},
   "outputs": [
    {
     "name": "stdout",
     "output_type": "stream",
     "text": [
      "Random Tensor: \n",
      " tensor([[0.3974, 0.8081, 0.3711],\n",
      "        [0.8801, 0.9310, 0.0297]]) \n",
      "\n",
      "Ones Tensor: \n",
      " tensor([[1., 1., 1.],\n",
      "        [1., 1., 1.]]) \n",
      "\n",
      "Zeros Tensor: \n",
      " tensor([[0., 0., 0.],\n",
      "        [0., 0., 0.]])\n"
     ]
    }
   ],
   "source": [
    "shape = (2,3,)\n",
    "rand_tensor = torch.rand(shape)\n",
    "ones_tensor = torch.ones(shape)\n",
    "zeros_tensor = torch.zeros(shape)\n",
    "\n",
    "print(f\"Random Tensor: \\n {rand_tensor} \\n\")\n",
    "print(f\"Ones Tensor: \\n {ones_tensor} \\n\")\n",
    "print(f\"Zeros Tensor: \\n {zeros_tensor}\")"
   ]
  },
  {
   "cell_type": "markdown",
   "id": "47949364",
   "metadata": {},
   "source": [
    "## Attributes of a Tensor\n",
    "Tensor attributes describe their shape, dtype, and device on which they are stored"
   ]
  },
  {
   "cell_type": "code",
   "execution_count": 19,
   "id": "72e081f9",
   "metadata": {},
   "outputs": [
    {
     "name": "stdout",
     "output_type": "stream",
     "text": [
      "Shape of tensor: torch.Size([3, 4])\n",
      "Dtype of tensor: torch.float32\n",
      "Device the tensor is stored on: cpu\n"
     ]
    }
   ],
   "source": [
    "tensor = torch.rand(3,4)\n",
    "\n",
    "print(f\"Shape of tensor: {tensor.shape}\")\n",
    "print(f\"Dtype of tensor: {tensor.dtype}\")\n",
    "print(f\"Device the tensor is stored on: {tensor.device}\")"
   ]
  },
  {
   "cell_type": "markdown",
   "id": "6cbc4ea7",
   "metadata": {},
   "source": [
    "## Operations on Tensors\n",
    "There are over 100 tensor operations. Each can be run on the GPU. By default they are on the CPU and you will have to change them:"
   ]
  },
  {
   "cell_type": "code",
   "execution_count": 21,
   "id": "8c07825b",
   "metadata": {},
   "outputs": [],
   "source": [
    "if torch.cuda.is_available():\n",
    "    tensor.tensor.to(\"cuda\")"
   ]
  },
  {
   "cell_type": "markdown",
   "id": "1cc0b958",
   "metadata": {},
   "source": [
    "#### Standard NumPy like indexing and slicing:"
   ]
  },
  {
   "cell_type": "code",
   "execution_count": 23,
   "id": "9aba6823",
   "metadata": {},
   "outputs": [
    {
     "name": "stdout",
     "output_type": "stream",
     "text": [
      "First Row: tensor([1., 1., 1., 1.])\n",
      "First Column: tensor([1., 1., 1., 1.])\n",
      "First Column: tensor([1., 1., 1., 1.])\n",
      "tensor([[1., 0., 1., 1.],\n",
      "        [1., 0., 1., 1.],\n",
      "        [1., 0., 1., 1.],\n",
      "        [1., 0., 1., 1.]])\n"
     ]
    }
   ],
   "source": [
    "tensor = torch.ones(4,4)\n",
    "print(f\"First Row: {tensor[0]}\")\n",
    "print(f\"First Column: {tensor[:, 0]}\")\n",
    "print(f\"First Column: {tensor[..., -1]}\")\n",
    "tensor[:,1]=0\n",
    "print(tensor)"
   ]
  },
  {
   "cell_type": "markdown",
   "id": "4bcd584f",
   "metadata": {},
   "source": [
    "#### torch.cat -> Joining tensors\n",
    "Use torch.cat to concatenate a sequence of tensors along a given dimension. Torch.stack is similar but slightly different to torch.cat"
   ]
  },
  {
   "cell_type": "code",
   "execution_count": 26,
   "id": "6dfe215e",
   "metadata": {},
   "outputs": [
    {
     "name": "stdout",
     "output_type": "stream",
     "text": [
      "tensor([[1., 0., 1., 1., 1., 0., 1., 1., 1., 0., 1., 1.],\n",
      "        [1., 0., 1., 1., 1., 0., 1., 1., 1., 0., 1., 1.],\n",
      "        [1., 0., 1., 1., 1., 0., 1., 1., 1., 0., 1., 1.],\n",
      "        [1., 0., 1., 1., 1., 0., 1., 1., 1., 0., 1., 1.]])\n"
     ]
    }
   ],
   "source": [
    "t1 = torch.cat([tensor, tensor, tensor], dim=1)\n",
    "print(t1)"
   ]
  },
  {
   "cell_type": "markdown",
   "id": "666ea750",
   "metadata": {},
   "source": [
    "#### Arithmetic Operations"
   ]
  },
  {
   "cell_type": "code",
   "execution_count": 28,
   "id": "a2a74200",
   "metadata": {},
   "outputs": [
    {
     "data": {
      "text/plain": [
       "tensor([[1., 0., 1., 1.],\n",
       "        [1., 0., 1., 1.],\n",
       "        [1., 0., 1., 1.],\n",
       "        [1., 0., 1., 1.]])"
      ]
     },
     "execution_count": 28,
     "metadata": {},
     "output_type": "execute_result"
    }
   ],
   "source": [
    "# This computes the matrix multiplication between two tensors. y1, y2, y3 will have the same value\n",
    "# ``tensor.T`` returns the transpose of a tensor\n",
    "y1 = tensor @ tensor.T\n",
    "y2 = tensor.matmul(tensor.T)\n",
    "\n",
    "y3 = torch.rand_like(y1)\n",
    "torch.matmul(tensor, tensor.T, out=y3)\n",
    "\n",
    "\n",
    "# This computes the element-wise product. z1, z2, z3 will have the same value\n",
    "z1 = tensor * tensor\n",
    "z2 = tensor.mul(tensor)\n",
    "\n",
    "z3 = torch.rand_like(tensor)\n",
    "torch.mul(tensor, tensor, out=z3)"
   ]
  },
  {
   "cell_type": "markdown",
   "id": "289ac6d5",
   "metadata": {},
   "source": [
    "#### Single-element tensors\n",
    "if you have a one element tensor, for example by aggregating all values of a tensor into one value, you can convert it to a Python numerical value using item()"
   ]
  },
  {
   "cell_type": "code",
   "execution_count": 30,
   "id": "5eab896a",
   "metadata": {},
   "outputs": [
    {
     "name": "stdout",
     "output_type": "stream",
     "text": [
      "12.0 <class 'float'>\n"
     ]
    }
   ],
   "source": [
    "agg = tensor.sum()\n",
    "agg_item = agg.item()\n",
    "print(agg_item, type(agg_item))"
   ]
  },
  {
   "cell_type": "markdown",
   "id": "3d914a6f",
   "metadata": {},
   "source": [
    "#### In-place operations\n",
    "Operations that store the result into the operand are called in-place. They are denoted by a _ suffix. For example:"
   ]
  },
  {
   "cell_type": "code",
   "execution_count": 31,
   "id": "d28abfaa",
   "metadata": {},
   "outputs": [
    {
     "name": "stdout",
     "output_type": "stream",
     "text": [
      "tensor([[1., 0., 1., 1.],\n",
      "        [1., 0., 1., 1.],\n",
      "        [1., 0., 1., 1.],\n",
      "        [1., 0., 1., 1.]]) \n",
      "\n",
      "tensor([[6., 5., 6., 6.],\n",
      "        [6., 5., 6., 6.],\n",
      "        [6., 5., 6., 6.],\n",
      "        [6., 5., 6., 6.]])\n"
     ]
    }
   ],
   "source": [
    "print(f\"{tensor} \\n\")\n",
    "tensor.add_(5)\n",
    "print(tensor)\n",
    "\n",
    "# note:\n",
    "# In-place operations save some memory,\n",
    "# but can be problematic when computing derivatives because of an immediate loss of history.\n",
    "# Hence, their use is discouraged."
   ]
  }
 ],
 "metadata": {
  "kernelspec": {
   "display_name": "Python 3 (ipykernel)",
   "language": "python",
   "name": "python3"
  },
  "language_info": {
   "codemirror_mode": {
    "name": "ipython",
    "version": 3
   },
   "file_extension": ".py",
   "mimetype": "text/x-python",
   "name": "python",
   "nbconvert_exporter": "python",
   "pygments_lexer": "ipython3",
   "version": "3.10.9"
  }
 },
 "nbformat": 4,
 "nbformat_minor": 5
}
