{
 "cells": [
  {
   "cell_type": "markdown",
   "id": "80ce597f",
   "metadata": {},
   "source": [
    "# Part One - Lists"
   ]
  },
  {
   "cell_type": "code",
   "execution_count": 101,
   "id": "7a68f069",
   "metadata": {},
   "outputs": [
    {
     "name": "stdout",
     "output_type": "stream",
     "text": [
      "4\n"
     ]
    }
   ],
   "source": [
    "# Majority of the time will be spent on lists\n",
    "courses = ['History', 'Math', 'Physics', 'CompSci']\n",
    "\n",
    "# length of our list\n",
    "print(len(courses))"
   ]
  },
  {
   "cell_type": "code",
   "execution_count": 92,
   "id": "5ca031f8",
   "metadata": {},
   "outputs": [
    {
     "name": "stdout",
     "output_type": "stream",
     "text": [
      "['History', 'Math', 'Physics', 'CompSci']\n"
     ]
    }
   ],
   "source": [
    "# print our list\n",
    "print(courses)"
   ]
  },
  {
   "cell_type": "code",
   "execution_count": 93,
   "id": "434a0795",
   "metadata": {},
   "outputs": [
    {
     "name": "stdout",
     "output_type": "stream",
     "text": [
      "History\n"
     ]
    }
   ],
   "source": [
    "# print the first value from our list\n",
    "print(courses[0])"
   ]
  },
  {
   "cell_type": "code",
   "execution_count": 94,
   "id": "93fb62cd",
   "metadata": {},
   "outputs": [
    {
     "name": "stdout",
     "output_type": "stream",
     "text": [
      "CompSci\n"
     ]
    }
   ],
   "source": [
    "# print the last value from our list\n",
    "print(courses[3])"
   ]
  },
  {
   "cell_type": "code",
   "execution_count": 96,
   "id": "17f6705d",
   "metadata": {},
   "outputs": [
    {
     "name": "stdout",
     "output_type": "stream",
     "text": [
      "CompSci\n"
     ]
    }
   ],
   "source": [
    "# also print the last value from the list\n",
    "print(courses[-1])"
   ]
  },
  {
   "cell_type": "code",
   "execution_count": 102,
   "id": "a8db536a",
   "metadata": {},
   "outputs": [
    {
     "name": "stdout",
     "output_type": "stream",
     "text": [
      "['History', 'Math']\n"
     ]
    }
   ],
   "source": [
    "# Grab the first two values from the list:\n",
    "# Starting at index 0, go to but DONT include, index 2\n",
    "# Starting point -> stopping point\n",
    "# First index is inclusive but the second index is not *\n",
    "print(courses[0:2]) "
   ]
  },
  {
   "cell_type": "code",
   "execution_count": 99,
   "id": "0d0c86fc",
   "metadata": {},
   "outputs": [
    {
     "name": "stdout",
     "output_type": "stream",
     "text": [
      "['History', 'Math']\n"
     ]
    }
   ],
   "source": [
    "# same result, it assumes we start at zero\n",
    "print(courses[:2]) "
   ]
  },
  {
   "cell_type": "code",
   "execution_count": 100,
   "id": "20a96906",
   "metadata": {},
   "outputs": [
    {
     "name": "stdout",
     "output_type": "stream",
     "text": [
      "['Physics', 'CompSci']\n"
     ]
    }
   ],
   "source": [
    "# Start at index 2 and go to the end.\n",
    "print(courses[2:]) "
   ]
  },
  {
   "cell_type": "markdown",
   "id": "da6dab09",
   "metadata": {},
   "source": [
    "### Modifying Lists"
   ]
  },
  {
   "cell_type": "code",
   "execution_count": 105,
   "id": "ffc39375",
   "metadata": {},
   "outputs": [
    {
     "name": "stdout",
     "output_type": "stream",
     "text": [
      "['Art', 'History', 'Math', 'Physics', 'CompSci', 'Art', 'Art']\n"
     ]
    }
   ],
   "source": [
    "# Adding items to our list\n",
    "\n",
    "# adds art to the end of our list (APPEND)\n",
    "courses.append('Art')\n",
    "print(courses)"
   ]
  },
  {
   "cell_type": "code",
   "execution_count": 106,
   "id": "8ed66ef1",
   "metadata": {},
   "outputs": [
    {
     "name": "stdout",
     "output_type": "stream",
     "text": [
      "['Art', 'Art', 'History', 'Math', 'Physics', 'CompSci', 'Art', 'Art']\n"
     ]
    }
   ],
   "source": [
    "# add art to the beginning of our list (INSERT)\n",
    "# doesnt override, just inserts\n",
    "courses.insert(0, 'Art')\n",
    "print(courses)"
   ]
  },
  {
   "cell_type": "code",
   "execution_count": 107,
   "id": "dc50cd63",
   "metadata": {},
   "outputs": [
    {
     "name": "stdout",
     "output_type": "stream",
     "text": [
      "['Art', 'Art', 'History', 'Math', 'Physics', 'CompSci', 'Art', 'Art', 'Art', 'Education']\n"
     ]
    }
   ],
   "source": [
    "# Add multiple values to our list (EXTEND)\n",
    "courses_2 = ['Art', 'Education']\n",
    "courses.extend(courses_2)\n",
    "print(courses)"
   ]
  },
  {
   "cell_type": "code",
   "execution_count": 109,
   "id": "1c7ead11",
   "metadata": {},
   "outputs": [
    {
     "name": "stdout",
     "output_type": "stream",
     "text": [
      "['History', 'Math', 'Physics', 'CompSci', 'Art', 'Art', 'Art', 'Education']\n"
     ]
    }
   ],
   "source": [
    "# Remove values from our list (REMOVE)\n",
    "courses.remove('Art')\n",
    "print(courses)"
   ]
  },
  {
   "cell_type": "code",
   "execution_count": 110,
   "id": "91631069",
   "metadata": {},
   "outputs": [
    {
     "data": {
      "text/plain": [
       "'Education'"
      ]
     },
     "execution_count": 110,
     "metadata": {},
     "output_type": "execute_result"
    }
   ],
   "source": [
    "courses.pop()"
   ]
  },
  {
   "cell_type": "code",
   "execution_count": 111,
   "id": "4a5f5666",
   "metadata": {},
   "outputs": [
    {
     "name": "stdout",
     "output_type": "stream",
     "text": [
      "Art\n"
     ]
    }
   ],
   "source": [
    "# Removes the last value from our list\n",
    "popped = courses.pop()\n",
    "\n",
    "# print the value that we just popped\n",
    "print(popped)"
   ]
  },
  {
   "cell_type": "markdown",
   "id": "bd241790",
   "metadata": {},
   "source": [
    "### Sorting Lists"
   ]
  },
  {
   "cell_type": "code",
   "execution_count": 112,
   "id": "a5751edb",
   "metadata": {},
   "outputs": [
    {
     "name": "stdout",
     "output_type": "stream",
     "text": [
      "['Art', 'Art', 'CompSci', 'Physics', 'Math', 'History']\n"
     ]
    }
   ],
   "source": [
    "# reverses the order of the list\n",
    "courses.reverse()\n",
    "print(courses)"
   ]
  },
  {
   "cell_type": "code",
   "execution_count": 36,
   "id": "7a8e4171",
   "metadata": {},
   "outputs": [
    {
     "name": "stdout",
     "output_type": "stream",
     "text": [
      "['CompSci', 'Math', 'Physics']\n"
     ]
    }
   ],
   "source": [
    "# sort our list in ascending order -> Alphabetical Order\n",
    "courses.sort()\n",
    "print(courses)"
   ]
  },
  {
   "cell_type": "code",
   "execution_count": 35,
   "id": "8c9eaef2",
   "metadata": {},
   "outputs": [
    {
     "name": "stdout",
     "output_type": "stream",
     "text": [
      "[1, 3, 4, 5]\n"
     ]
    }
   ],
   "source": [
    "# sort our new list of numbers in ascending order\n",
    "nums = [1,5,4,3]\n",
    "nums.sort()\n",
    "print(nums)"
   ]
  },
  {
   "cell_type": "code",
   "execution_count": 38,
   "id": "edc69092",
   "metadata": {},
   "outputs": [
    {
     "name": "stdout",
     "output_type": "stream",
     "text": [
      "['Physics', 'Math', 'CompSci']\n",
      "[5, 4, 3, 1]\n"
     ]
    }
   ],
   "source": [
    "# Sorted in descending Order\n",
    "courses.sort(reverse=True)\n",
    "print(courses)\n",
    "\n",
    "nums.sort(reverse=True)\n",
    "print(nums)"
   ]
  },
  {
   "cell_type": "code",
   "execution_count": 43,
   "id": "e03e7781",
   "metadata": {},
   "outputs": [
    {
     "name": "stdout",
     "output_type": "stream",
     "text": [
      "['CompSci', 'Math', 'Physics']\n"
     ]
    }
   ],
   "source": [
    "# Sorted Function rather than Sort Method\n",
    "# does not sort the list in place we need a new variavle to see this\n",
    "# sorted function allows us to get the sorted list without altering the original version\n",
    "sorted_courses = sorted(courses)\n",
    "print(sorted_courses)"
   ]
  },
  {
   "cell_type": "code",
   "execution_count": null,
   "id": "d5ffd860",
   "metadata": {},
   "outputs": [],
   "source": [
    "# min max and sum of a list\n",
    "print(min(nums))\n",
    "print(max(nums))\n",
    "print(sum(nums))"
   ]
  },
  {
   "cell_type": "markdown",
   "id": "20149a9c",
   "metadata": {},
   "source": [
    "### Finding Values"
   ]
  },
  {
   "cell_type": "code",
   "execution_count": 52,
   "id": "53c190ea",
   "metadata": {},
   "outputs": [
    {
     "name": "stdout",
     "output_type": "stream",
     "text": [
      "2\n",
      "False\n",
      "True\n"
     ]
    }
   ],
   "source": [
    "# find index of a certain value -> index method\n",
    "print(courses.index('CompSci'))\n",
    "\n",
    "# what if we wanted to check if biology was in the list\n",
    "print('Biology' in courses)\n",
    "print('CompSci' in courses)"
   ]
  },
  {
   "cell_type": "markdown",
   "id": "5022f476",
   "metadata": {},
   "source": [
    "### Looping Values\n"
   ]
  },
  {
   "cell_type": "code",
   "execution_count": 55,
   "id": "f49dc175",
   "metadata": {},
   "outputs": [
    {
     "name": "stdout",
     "output_type": "stream",
     "text": [
      "Physics\n",
      "Math\n",
      "CompSci\n"
     ]
    }
   ],
   "source": [
    "# item here is just a variable, it is not a keyword\n",
    "for item in courses:\n",
    "    print(item)"
   ]
  },
  {
   "cell_type": "code",
   "execution_count": 60,
   "id": "34f4326e",
   "metadata": {},
   "outputs": [
    {
     "name": "stdout",
     "output_type": "stream",
     "text": [
      "1 Physics\n",
      "2 Math\n",
      "3 CompSci\n"
     ]
    }
   ],
   "source": [
    "# enumerate function\n",
    "\n",
    "for index,item in enumerate(courses, start = 1 ):\n",
    "    print(index,item)"
   ]
  },
  {
   "cell_type": "code",
   "execution_count": 64,
   "id": "79b56ee1",
   "metadata": {},
   "outputs": [
    {
     "name": "stdout",
     "output_type": "stream",
     "text": [
      "Physics - Math - CompSci\n"
     ]
    }
   ],
   "source": [
    "course_str=' - '.join(courses)\n",
    "print(course_str)"
   ]
  },
  {
   "cell_type": "code",
   "execution_count": 66,
   "id": "1f1e2f4a",
   "metadata": {},
   "outputs": [
    {
     "name": "stdout",
     "output_type": "stream",
     "text": [
      "['Physics', 'Math', 'CompSci']\n"
     ]
    }
   ],
   "source": [
    "new_list = course_str.split(' - ')\n",
    "print(new_list)"
   ]
  },
  {
   "cell_type": "markdown",
   "id": "e7246ee4",
   "metadata": {},
   "source": [
    "# Part Two - Tuples"
   ]
  },
  {
   "cell_type": "code",
   "execution_count": 67,
   "id": "5032d4f8",
   "metadata": {},
   "outputs": [
    {
     "name": "stdout",
     "output_type": "stream",
     "text": [
      "['History', 'Math', 'Physics', 'CompSci']\n",
      "['History', 'Math', 'Physics', 'CompSci']\n",
      "['Art', 'Math', 'Physics', 'CompSci']\n",
      "['Art', 'Math', 'Physics', 'CompSci']\n"
     ]
    }
   ],
   "source": [
    "# We cannot modify tuples. Lists are mutable (modifiable) Tuples are immutable (not modifiable)\n",
    "\n",
    "# MUTABLE EXAMPLE\n",
    "list_1 = ['History', 'Math', 'Physics', 'CompSci']\n",
    "list_2 = list_1\n",
    "\n",
    "print(list_1)\n",
    "print(list_2)\n",
    "\n",
    "list_1[0] = 'Art'\n",
    "\n",
    "print(list_1)\n",
    "print(list_2)"
   ]
  },
  {
   "cell_type": "code",
   "execution_count": 68,
   "id": "a2ac2427",
   "metadata": {},
   "outputs": [
    {
     "name": "stdout",
     "output_type": "stream",
     "text": [
      "('History', 'Math', 'Physics', 'CompSci')\n",
      "('History', 'Math', 'Physics', 'CompSci')\n"
     ]
    },
    {
     "ename": "TypeError",
     "evalue": "'tuple' object does not support item assignment",
     "output_type": "error",
     "traceback": [
      "\u001b[0;31m---------------------------------------------------------------------------\u001b[0m",
      "\u001b[0;31mTypeError\u001b[0m                                 Traceback (most recent call last)",
      "Cell \u001b[0;32mIn[68], line 7\u001b[0m\n\u001b[1;32m      4\u001b[0m \u001b[38;5;28mprint\u001b[39m(tuple_1)\n\u001b[1;32m      5\u001b[0m \u001b[38;5;28mprint\u001b[39m(tuple_2)\n\u001b[0;32m----> 7\u001b[0m tuple_1[\u001b[38;5;241m0\u001b[39m] \u001b[38;5;241m=\u001b[39m \u001b[38;5;124m'\u001b[39m\u001b[38;5;124mArt\u001b[39m\u001b[38;5;124m'\u001b[39m\n\u001b[1;32m      9\u001b[0m \u001b[38;5;28mprint\u001b[39m(tuple_1)\n\u001b[1;32m     10\u001b[0m \u001b[38;5;28mprint\u001b[39m(tuple_2)\n",
      "\u001b[0;31mTypeError\u001b[0m: 'tuple' object does not support item assignment"
     ]
    }
   ],
   "source": [
    "tuple_1 = ('History', 'Math', 'Physics', 'CompSci')\n",
    "tuple_2 = tuple_1\n",
    "\n",
    "print(tuple_1)\n",
    "print(tuple_2)\n",
    "\n",
    "tuple_1[0] = 'Art' # error 'tuple' object does not support item assignment\n",
    "\n",
    "print(tuple_1)\n",
    "print(tuple_2)"
   ]
  },
  {
   "cell_type": "markdown",
   "id": "c1541e00",
   "metadata": {},
   "source": [
    "# Part Three - Sets"
   ]
  },
  {
   "cell_type": "code",
   "execution_count": 83,
   "id": "7a529051",
   "metadata": {},
   "outputs": [
    {
     "name": "stdout",
     "output_type": "stream",
     "text": [
      "{'Physics', 'History', 'Math', 'CompSci'}\n"
     ]
    }
   ],
   "source": [
    "# Sets are values that are unordered and also have no duplicates\n",
    "\n",
    "# gets rid of second math course and only leaves us with one\n",
    "cs_courses = {'History', 'Math', 'Physics', 'CompSci', 'Math'}\n",
    "\n",
    "print(cs_courses)"
   ]
  },
  {
   "cell_type": "code",
   "execution_count": 84,
   "id": "0bc8a5a3",
   "metadata": {},
   "outputs": [
    {
     "name": "stdout",
     "output_type": "stream",
     "text": [
      "True\n"
     ]
    }
   ],
   "source": [
    "cs_courses = {'History', 'Math', 'Physics', 'CompSci', 'Math'}\n",
    "\n",
    "print('Math' in cs_courses)"
   ]
  },
  {
   "cell_type": "code",
   "execution_count": 86,
   "id": "a46e96a8",
   "metadata": {},
   "outputs": [
    {
     "name": "stdout",
     "output_type": "stream",
     "text": [
      "{'Art', 'Design', 'Physics', 'History', 'CompSci', 'Math'}\n"
     ]
    }
   ],
   "source": [
    "# INTERSECTION\n",
    "cs_courses = {'History', 'Math', 'Physics', 'CompSci'}\n",
    "art_courses = {'History', 'Math', 'Art', 'Design'}\n",
    "\n",
    "print(cs_courses.union(art_courses))"
   ]
  },
  {
   "cell_type": "markdown",
   "id": "ed5ecac2",
   "metadata": {},
   "source": [
    "### Empty"
   ]
  },
  {
   "cell_type": "code",
   "execution_count": null,
   "id": "ce227182",
   "metadata": {},
   "outputs": [],
   "source": [
    "# empty lists\n",
    "\n",
    "empty_list = []\n",
    "empty_list = list()\n",
    "\n",
    "\n",
    "# empty tuples\n",
    "empty_tuple = ()\n",
    "empty_tuples = tuple()\n",
    "\n",
    "\n",
    "# empty sets\n",
    "# empty_set = {} -> this line is wrong -> creates an empty dictionary\n",
    "empty_set = set()"
   ]
  }
 ],
 "metadata": {
  "kernelspec": {
   "display_name": "Python 3 (ipykernel)",
   "language": "python",
   "name": "python3"
  },
  "language_info": {
   "codemirror_mode": {
    "name": "ipython",
    "version": 3
   },
   "file_extension": ".py",
   "mimetype": "text/x-python",
   "name": "python",
   "nbconvert_exporter": "python",
   "pygments_lexer": "ipython3",
   "version": "3.10.9"
  }
 },
 "nbformat": 4,
 "nbformat_minor": 5
}
