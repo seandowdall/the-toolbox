{
 "cells": [
  {
   "cell_type": "code",
   "execution_count": 9,
   "id": "9ca6ea09",
   "metadata": {},
   "outputs": [],
   "source": [
    "# Comparisons:\n",
    "# Equal:            ==\n",
    "# Not Equal:        !=\n",
    "# Greater Than:     >\n",
    "# Less Than:        <\n",
    "# Greater or Equal: >=\n",
    "# Less or Equal:    <=\n",
    "# Object Identity:  is -> this checks if values have the same id, or are the same objects in memory\n",
    "\n",
    "\n",
    "\n",
    "\n",
    "# False Values:\n",
    "    # False\n",
    "    # None\n",
    "    # Zero of any numeric type\n",
    "    # Any empty sequence. For example, '', (), [].\n",
    "    # Any empty mapping. For example, {}."
   ]
  },
  {
   "cell_type": "code",
   "execution_count": 7,
   "id": "9efc5534",
   "metadata": {},
   "outputs": [
    {
     "name": "stdout",
     "output_type": "stream",
     "text": [
      "Conditional was True\n"
     ]
    }
   ],
   "source": [
    "if True:\n",
    "    print('Conditional was True')"
   ]
  },
  {
   "cell_type": "code",
   "execution_count": 17,
   "id": "dff39b15",
   "metadata": {},
   "outputs": [
    {
     "name": "stdout",
     "output_type": "stream",
     "text": [
      "language is java\n"
     ]
    }
   ],
   "source": [
    "language = 'Java' \n",
    "\n",
    "# '=' assignment\n",
    "# '==' equality -> determines wheter our code will be execute\n",
    "\n",
    "if language == 'Python': \n",
    "    print('language is python')\n",
    "    \n",
    "elif language == 'Java':\n",
    "    print('language is java')\n",
    "    \n",
    "elif language == 'JavaScript':\n",
    "    print('language is javascript')\n",
    "\n",
    "else:\n",
    "    print('Not a match')"
   ]
  },
  {
   "cell_type": "code",
   "execution_count": 19,
   "id": "d8c71cdb",
   "metadata": {},
   "outputs": [],
   "source": [
    "# Switch Case Statement ? -> Python does not have a switch case.\n",
    "# if, elif and else is clean enough as there is, we can just add more options"
   ]
  },
  {
   "cell_type": "code",
   "execution_count": 23,
   "id": "54555f2b",
   "metadata": {},
   "outputs": [
    {
     "name": "stdout",
     "output_type": "stream",
     "text": [
      "Bad Creds\n"
     ]
    }
   ],
   "source": [
    "# Using 'AND'\n",
    "\n",
    "user = 'Admin'\n",
    "logged_in = False\n",
    "\n",
    "if user == 'Admin' and logged_in:\n",
    "    print('Admin Page')\n",
    "    \n",
    "else: \n",
    "    print('Bad Creds')"
   ]
  },
  {
   "cell_type": "code",
   "execution_count": 26,
   "id": "8f9ebd65",
   "metadata": {},
   "outputs": [
    {
     "name": "stdout",
     "output_type": "stream",
     "text": [
      "Admin Page\n"
     ]
    }
   ],
   "source": [
    "# Using 'OR'\n",
    "\n",
    "user = 'Admin'\n",
    "logged_in = False\n",
    "\n",
    "if user == 'Admin' or logged_in:\n",
    "    print('Admin Page')\n",
    "    \n",
    "else: \n",
    "    print('Bad Creds')"
   ]
  },
  {
   "cell_type": "code",
   "execution_count": 30,
   "id": "89323433",
   "metadata": {},
   "outputs": [
    {
     "name": "stdout",
     "output_type": "stream",
     "text": [
      "Please Log In\n"
     ]
    }
   ],
   "source": [
    "# Using 'Not'\n",
    "user = 'Admin'\n",
    "logged_in = False\n",
    "\n",
    "if not logged_in:\n",
    "    print('Please Log In')\n",
    "else:\n",
    "    print('Welcome')"
   ]
  },
  {
   "cell_type": "code",
   "execution_count": 34,
   "id": "832f4e08",
   "metadata": {},
   "outputs": [
    {
     "name": "stdout",
     "output_type": "stream",
     "text": [
      "4464153024\n",
      "4464000320\n",
      "True\n",
      "False\n"
     ]
    }
   ],
   "source": [
    "# Two different objects in memory\n",
    "a = [1,2,3]\n",
    "b = [1,2,3]\n",
    "\n",
    "print(id(a))\n",
    "print(id(b))\n",
    "\n",
    "\n",
    "print(a == b)\n",
    "print(a is b)"
   ]
  },
  {
   "cell_type": "code",
   "execution_count": 36,
   "id": "6835d280",
   "metadata": {},
   "outputs": [
    {
     "name": "stdout",
     "output_type": "stream",
     "text": [
      "4463737664\n",
      "4463737664\n",
      "True\n",
      "True\n"
     ]
    }
   ],
   "source": [
    "# A and B having the same memory store\n",
    "a = [1,2,3]\n",
    "b = a\n",
    "\n",
    "\n",
    "print(id(a))\n",
    "print(id(b))\n",
    "\n",
    "\n",
    "print(a == b)\n",
    "print(a is b)"
   ]
  },
  {
   "cell_type": "code",
   "execution_count": 47,
   "id": "42619537",
   "metadata": {},
   "outputs": [
    {
     "name": "stdout",
     "output_type": "stream",
     "text": [
      "Evaluated to True\n"
     ]
    }
   ],
   "source": [
    "# False Values:\n",
    "    # False\n",
    "    # None\n",
    "    # Zero of any numeric type\n",
    "    # Any empty sequence. For example, '', (), [].\n",
    "    # Any empty mapping. For example, {}.\n",
    "\n",
    "\n",
    "# conditions = False\n",
    "# conditions = None # also evaluates to false\n",
    "# conditions = 0 also evaluates to false\n",
    "conditions = 10 # evaluates to true\n",
    "\n",
    "# etc etc -> following the false values shown above\n",
    "# we know now everything that values to false, thus everything else will evaluate to true.\n",
    "\n",
    "if conditions:\n",
    "    print('Evaluated to True')\n",
    "else:\n",
    "    print('Evaluated to False')"
   ]
  }
 ],
 "metadata": {
  "kernelspec": {
   "display_name": "Python 3 (ipykernel)",
   "language": "python",
   "name": "python3"
  },
  "language_info": {
   "codemirror_mode": {
    "name": "ipython",
    "version": 3
   },
   "file_extension": ".py",
   "mimetype": "text/x-python",
   "name": "python",
   "nbconvert_exporter": "python",
   "pygments_lexer": "ipython3",
   "version": "3.10.9"
  }
 },
 "nbformat": 4,
 "nbformat_minor": 5
}
