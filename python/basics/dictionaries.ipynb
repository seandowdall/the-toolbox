{
 "cells": [
  {
   "cell_type": "code",
   "execution_count": 1,
   "id": "cb7596c3",
   "metadata": {},
   "outputs": [],
   "source": [
    "# How to work and use Dictionaries:\n",
    "# allow us to use key-value pairs (hashmaps / Associative Arrays)\n",
    "# Think of it like an actual dictionary where each word that you look up is the key\n",
    "# and each definition is the value. Key -> Unique Identifier"
   ]
  },
  {
   "cell_type": "code",
   "execution_count": 4,
   "id": "8090aae0",
   "metadata": {},
   "outputs": [
    {
     "name": "stdout",
     "output_type": "stream",
     "text": [
      "{'name': 'John', 'age': 25, 'courses': ['Math', 'CompSci']}\n"
     ]
    }
   ],
   "source": [
    "# how to setup our dictionary\n",
    "student = {'name': 'John', 'age': 25, 'courses': ['Math', 'CompSci']}\n",
    "print(student)"
   ]
  },
  {
   "cell_type": "code",
   "execution_count": 6,
   "id": "1388afb2",
   "metadata": {},
   "outputs": [
    {
     "name": "stdout",
     "output_type": "stream",
     "text": [
      "John\n"
     ]
    }
   ],
   "source": [
    "print(student['name'])"
   ]
  },
  {
   "cell_type": "code",
   "execution_count": 8,
   "id": "d6ab220a",
   "metadata": {},
   "outputs": [
    {
     "name": "stdout",
     "output_type": "stream",
     "text": [
      "['Math', 'CompSci']\n"
     ]
    }
   ],
   "source": [
    "print(student['courses'])"
   ]
  },
  {
   "cell_type": "code",
   "execution_count": 13,
   "id": "78b2470b",
   "metadata": {},
   "outputs": [
    {
     "name": "stdout",
     "output_type": "stream",
     "text": [
      "None\n"
     ]
    }
   ],
   "source": [
    "print(student.get('phone')) # Get returns 'none' rather than an error"
   ]
  },
  {
   "cell_type": "code",
   "execution_count": 15,
   "id": "ae858a3f",
   "metadata": {},
   "outputs": [
    {
     "name": "stdout",
     "output_type": "stream",
     "text": [
      "Not Found\n"
     ]
    }
   ],
   "source": [
    "print(student.get('phone', 'Not Found'))"
   ]
  },
  {
   "cell_type": "code",
   "execution_count": 17,
   "id": "96434dee",
   "metadata": {},
   "outputs": [],
   "source": [
    "student['phone'] = '555-5555'"
   ]
  },
  {
   "cell_type": "code",
   "execution_count": 19,
   "id": "2834881d",
   "metadata": {},
   "outputs": [
    {
     "name": "stdout",
     "output_type": "stream",
     "text": [
      "555-5555\n"
     ]
    }
   ],
   "source": [
    "print(student.get('phone', 'Not Found'))"
   ]
  },
  {
   "cell_type": "code",
   "execution_count": 22,
   "id": "5d2b3c1c",
   "metadata": {},
   "outputs": [
    {
     "name": "stdout",
     "output_type": "stream",
     "text": [
      "{'name': 'Jane', 'age': 25, 'courses': ['Math', 'CompSci'], 'phone': '555-5555'}\n"
     ]
    }
   ],
   "source": [
    "# Updates the student name from the original, john, to jane\n",
    "student['name'] = 'Jane'\n",
    "print(student)"
   ]
  },
  {
   "cell_type": "code",
   "execution_count": 40,
   "id": "806cd57e",
   "metadata": {},
   "outputs": [
    {
     "name": "stdout",
     "output_type": "stream",
     "text": [
      "{'name': 'Jane', 'courses': ['Math', 'CompSci'], 'phone': '555-5555', 'age': 26}\n"
     ]
    }
   ],
   "source": [
    "# Update using the update method\n",
    "student.update({'name': 'Jane' , 'age': 26, 'phone': '555-5555'})\n",
    "print(student) "
   ]
  },
  {
   "cell_type": "code",
   "execution_count": 33,
   "id": "d3620b7f",
   "metadata": {},
   "outputs": [],
   "source": [
    "# removing the age key\n",
    "del student['age']"
   ]
  },
  {
   "cell_type": "code",
   "execution_count": 35,
   "id": "493db1a7",
   "metadata": {},
   "outputs": [
    {
     "name": "stdout",
     "output_type": "stream",
     "text": [
      "{'name': 'Jane', 'courses': ['Math', 'CompSci'], 'phone': '555-5555'}\n"
     ]
    }
   ],
   "source": [
    "print(student)"
   ]
  },
  {
   "cell_type": "code",
   "execution_count": 41,
   "id": "ea5f82ab",
   "metadata": {},
   "outputs": [
    {
     "name": "stdout",
     "output_type": "stream",
     "text": [
      "{'name': 'Jane', 'courses': ['Math', 'CompSci'], 'phone': '555-5555'}\n",
      "26\n"
     ]
    }
   ],
   "source": [
    "# pop function to remove age\n",
    "age = student.pop('age')\n",
    "print(student)\n",
    "print(age)"
   ]
  },
  {
   "cell_type": "code",
   "execution_count": 49,
   "id": "10af9500",
   "metadata": {},
   "outputs": [
    {
     "name": "stdout",
     "output_type": "stream",
     "text": [
      "3\n",
      "dict_keys(['name', 'courses', 'phone'])\n",
      "dict_values(['Jane', ['Math', 'CompSci'], '555-5555'])\n",
      "dict_items([('name', 'Jane'), ('courses', ['Math', 'CompSci']), ('phone', '555-5555')])\n"
     ]
    }
   ],
   "source": [
    "# keys and values\n",
    "\n",
    "print(len(student))\n",
    "print(student.keys())\n",
    "print(student.values())\n",
    "print(student.items())"
   ]
  },
  {
   "cell_type": "code",
   "execution_count": 57,
   "id": "0a4d8ed1",
   "metadata": {},
   "outputs": [
    {
     "name": "stdout",
     "output_type": "stream",
     "text": [
      "name\n",
      "courses\n",
      "phone\n"
     ]
    }
   ],
   "source": [
    "# Looping through keys and values\n",
    "# this only prints the keys, what we need to do is to loop through the items\n",
    "for key in student:\n",
    "    print(key)\n"
   ]
  },
  {
   "cell_type": "code",
   "execution_count": 56,
   "id": "fe992ec6",
   "metadata": {},
   "outputs": [
    {
     "name": "stdout",
     "output_type": "stream",
     "text": [
      "name Jane\n",
      "courses ['Math', 'CompSci']\n",
      "phone 555-5555\n"
     ]
    }
   ],
   "source": [
    "# using the items menu & printing keys and values\n",
    "for key, value in student.items():\n",
    "    print(key, value)"
   ]
  }
 ],
 "metadata": {
  "kernelspec": {
   "display_name": "Python 3 (ipykernel)",
   "language": "python",
   "name": "python3"
  },
  "language_info": {
   "codemirror_mode": {
    "name": "ipython",
    "version": 3
   },
   "file_extension": ".py",
   "mimetype": "text/x-python",
   "name": "python",
   "nbconvert_exporter": "python",
   "pygments_lexer": "ipython3",
   "version": "3.10.9"
  }
 },
 "nbformat": 4,
 "nbformat_minor": 5
}
